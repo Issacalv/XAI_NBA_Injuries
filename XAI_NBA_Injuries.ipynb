{
  "nbformat": 4,
  "nbformat_minor": 0,
  "metadata": {
    "colab": {
      "provenance": [],
      "authorship_tag": "ABX9TyOiJg3P4gdc18vAuN42QKaj"
    },
    "kernelspec": {
      "name": "python3",
      "display_name": "Python 3"
    },
    "language_info": {
      "name": "python"
    }
  },
  "cells": [
    {
      "cell_type": "markdown",
      "source": [
        "# XAI NBA Injuries Project\n",
        "## By Issac Alvarez"
      ],
      "metadata": {
        "id": "ypwVEI3RpZnO"
      }
    },
    {
      "cell_type": "code",
      "execution_count": null,
      "metadata": {
        "id": "c4_pvOxDo_-2"
      },
      "outputs": [],
      "source": []
    }
  ]
}